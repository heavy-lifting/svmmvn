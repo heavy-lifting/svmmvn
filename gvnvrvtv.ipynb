{
 "cells": [
  {
   "cell_type": "code",
   "execution_count": 8,
   "metadata": {},
   "outputs": [
    {
     "name": "stdout",
     "output_type": "stream",
     "text": [
      "Requirement already satisfied: FoxDot in c:\\users\\admin\\appdata\\local\\programs\\python\\python37\\lib\\site-packages (0.8.12)\n",
      "Note: you may need to restart the kernel to use updated packages.\n"
     ]
    },
    {
     "name": "stderr",
     "output_type": "stream",
     "text": [
      "You are using pip version 10.0.1, however version 24.0 is available.\n",
      "You should consider upgrading via the 'python -m pip install --upgrade pip' command.\n"
     ]
    }
   ],
   "source": [
    "pip install FoxDot"
   ]
  },
  {
   "cell_type": "code",
   "execution_count": 10,
   "metadata": {},
   "outputs": [],
   "source": [
    "import random\n",
    "from FoxDot import *\n",
    "\n",
    "\n",
    "\n",
    "\n"
   ]
  },
  {
   "cell_type": "code",
   "execution_count": 11,
   "metadata": {},
   "outputs": [],
   "source": [
    "# Define some musical patterns\n",
    "patterns = [\n",
    "    P[0, 2, 4, 5],\n",
    "    P[0, 3, 7, 10],\n",
    "    P[0, 1, 5, 8]\n",
    "]\n"
   ]
  },
  {
   "cell_type": "code",
   "execution_count": 14,
   "metadata": {},
   "outputs": [],
   "source": [
    "# Define a function to generate FoxDot code\n",
    "def generate_foxdot_code():\n",
    "    pattern = random.choice(patterns)\n",
    "    dur = random.choice([0.25, 0.5, 1])\n",
    "    amp = random.choice([0.5, 0.7, 1])\n",
    "    synth = random.choice(['pluck', 'pads', 'bass'])\n",
    "    \n",
    "    foxdot_code = f\"\"\"\n",
    "{random.choice(['p1', 'p2', 'p3'])} >> {synth}(var({pattern}, {dur}), amp={amp})\n",
    "\"\"\"\n",
    "    return foxdot_code"
   ]
  },
  {
   "cell_type": "code",
   "execution_count": 15,
   "metadata": {},
   "outputs": [
    {
     "name": "stdout",
     "output_type": "stream",
     "text": [
      "\n",
      "p2 >> pluck(var(P[0, 3, 7, 10], 1), amp=1)\n",
      "\n"
     ]
    }
   ],
   "source": [
    "# Generate and print some FoxDot code\n",
    "print(generate_foxdot_code())"
   ]
  }
 ],
 "metadata": {
  "kernelspec": {
   "display_name": "Python 3",
   "language": "python",
   "name": "python3"
  },
  "language_info": {
   "codemirror_mode": {
    "name": "ipython",
    "version": 3
   },
   "file_extension": ".py",
   "mimetype": "text/x-python",
   "name": "python",
   "nbconvert_exporter": "python",
   "pygments_lexer": "ipython3",
   "version": "3.7.0"
  }
 },
 "nbformat": 4,
 "nbformat_minor": 2
}
